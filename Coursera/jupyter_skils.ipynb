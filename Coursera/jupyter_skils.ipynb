{
 "cells": [
  {
   "cell_type": "markdown",
   "id": "a2ad52d4-f4e3-4c13-b01e-258b2e4ea893",
   "metadata": {},
   "source": [
    "## Jupyter Skills"
   ]
  },
  {
   "cell_type": "markdown",
   "id": "0228008d-a89c-4b70-9b06-e4c728c06ba8",
   "metadata": {},
   "source": [
    "### TLDR"
   ]
  },
  {
   "cell_type": "markdown",
   "id": "f783a403-1ff5-4525-b4c9-45f37715eb4f",
   "metadata": {},
   "source": [
    "<img src=\"https://upload.wikimedia.org/wikipedia/commons/thumb/5/51/IBM_logo.svg/1280px-IBM_logo.svg.png\" width=\"200px\">\n"
   ]
  },
  {
   "cell_type": "markdown",
   "id": "065b0e5e-09e7-4cab-a8bd-6891f7f2276f",
   "metadata": {},
   "source": [
    "**Coursera**\n",
    "<br></br>\n",
    "**Jupyter Skills**\n",
    "\n",
    "The purpose of this Notebook is to train and demonstrate skills with Jupyter.\n",
    "\n"
   ]
  },
  {
   "cell_type": "markdown",
   "id": "f5a09814-51f4-477a-b85f-6fb66d34b8a8",
   "metadata": {},
   "source": [
    "### Data Science"
   ]
  },
  {
   "cell_type": "markdown",
   "id": "9e52707c-291a-4898-ad38-4eceb51b8eb2",
   "metadata": {},
   "source": [
    "#### Languages"
   ]
  },
  {
   "cell_type": "markdown",
   "id": "d981a97a-a2d5-4af1-8205-44cb33afca3a",
   "metadata": {},
   "source": [
    "1. Python\n",
    "2. Julia\n",
    "3. R\n"
   ]
  },
  {
   "cell_type": "markdown",
   "id": "59402168-9da7-42d2-aefb-0636e24ab8ee",
   "metadata": {},
   "source": [
    "#### Libraries"
   ]
  },
  {
   "cell_type": "markdown",
   "id": "44a901cb-6b14-4b00-b64e-a301f5c133db",
   "metadata": {},
   "source": [
    "| Library Name | Type|\n",
    "|---| --- |\n",
    "| Pandas | Data Handling |\n",
    "| Numpy |Numerical computing|\n",
    "| Plotly |Data Visualzation|\n",
    "| Matplotlib |Data Visualzation|\n",
    "| Scickt-Learn |Model Train|\n",
    "| TensorFlow |Model Train|\n",
    "| PyTorch |Model Train|\n",
    "| Keras |Model Train|\n",
    "\n"
   ]
  },
  {
   "cell_type": "markdown",
   "id": "c7a89f0f-4f51-4b58-b099-87ad0c9e7d4f",
   "metadata": {},
   "source": [
    "#### Tools"
   ]
  },
  {
   "cell_type": "markdown",
   "id": "48488fa1-0141-4dfb-9434-4d3f74f2d012",
   "metadata": {},
   "source": [
    "| Tool Name\n",
    "|---| \n",
    "| Anaconda |\n",
    "| Jupyter |\n",
    "| Visual Studio Code |\n",
    "| Data Lore |\n",
    "| IBM Watson Studio |"
   ]
  },
  {
   "cell_type": "markdown",
   "id": "1e4a3837-302e-4b01-a353-458b19169e70",
   "metadata": {},
   "source": [
    "#### Arithmetic Expressions"
   ]
  },
  {
   "cell_type": "markdown",
   "id": "f1aa861d-1e78-427f-a60a-282b9f4471a1",
   "metadata": {},
   "source": [
    "```python\n",
    "\n",
    "print(2+2)\n",
    "print(13*77)\n",
    "print(4//2)\n",
    "print(2**10)\n",
    "\n",
    "```"
   ]
  },
  {
   "cell_type": "code",
   "execution_count": 6,
   "id": "3124e232-58da-4f2e-b7d4-8fbda7d1d080",
   "metadata": {},
   "outputs": [
    {
     "name": "stdout",
     "output_type": "stream",
     "text": [
      "4\n",
      "1001\n",
      "2\n",
      "1024\n"
     ]
    }
   ],
   "source": [
    "print(2+2)\n",
    "print(13*77)\n",
    "print(4//2)\n",
    "print(2**10)"
   ]
  },
  {
   "cell_type": "markdown",
   "id": "293eb55b-4fe3-43c0-8b5d-b09afe16ac17",
   "metadata": {},
   "source": [
    "#### Math"
   ]
  },
  {
   "cell_type": "code",
   "execution_count": 9,
   "id": "e3a63909-36df-4b9c-a5d0-336c6f21ea3c",
   "metadata": {},
   "outputs": [
    {
     "name": "stdout",
     "output_type": "stream",
     "text": [
      "Requirement already satisfied: numpy in /Users/miguelsantos/Library/jupyterlab-desktop/jlab_server/lib/python3.12/site-packages (1.26.4)\n"
     ]
    }
   ],
   "source": [
    "!pip install numpy"
   ]
  },
  {
   "cell_type": "code",
   "execution_count": 15,
   "id": "55920ba8-45d5-44cf-bbf8-21e677164a7e",
   "metadata": {},
   "outputs": [
    {
     "data": {
      "text/plain": [
       "4"
      ]
     },
     "execution_count": 15,
     "metadata": {},
     "output_type": "execute_result"
    }
   ],
   "source": [
    "import numpy as np\n",
    "\n",
    "def multiply(*args):\n",
    "    numbers = np.array(args)\n",
    "    output = np.prod(numbers)\n",
    "    return output\n",
    "\n",
    "multiply(2,2)"
   ]
  },
  {
   "cell_type": "markdown",
   "id": "84e5a8fc-35d9-4fb3-9deb-b912b8ed1b29",
   "metadata": {},
   "source": [
    "#### Time Conversion"
   ]
  },
  {
   "cell_type": "code",
   "execution_count": 2,
   "id": "a88a2d3e-2b56-487b-a93a-1ff218deddff",
   "metadata": {},
   "outputs": [],
   "source": [
    "import datetime"
   ]
  },
  {
   "cell_type": "code",
   "execution_count": 1,
   "id": "41279d50-2b96-4a02-8226-be98e37feb8b",
   "metadata": {},
   "outputs": [],
   "source": [
    "def minute_conversion(minutes:int):\n",
    "    hours = minutes / 60\n",
    "    return hours\n",
    "    "
   ]
  },
  {
   "cell_type": "code",
   "execution_count": 3,
   "id": "13f66844-a966-466d-9e2b-04206a0671a6",
   "metadata": {},
   "outputs": [
    {
     "data": {
      "text/plain": [
       "1.0"
      ]
     },
     "execution_count": 3,
     "metadata": {},
     "output_type": "execute_result"
    }
   ],
   "source": [
    "minute_conversion(minutes=60)"
   ]
  },
  {
   "cell_type": "markdown",
   "id": "f9423caf-9f0f-464e-8cf2-7ec79e0fbec9",
   "metadata": {},
   "source": [
    "### Goals\n",
    "\n",
    "Expose the skills with Jupyter Notebook, as example:\n",
    "\n",
    "1. Create and edit markdown cells.\n",
    "2. Skills with python code.\n",
    "3. Use of libraries."
   ]
  },
  {
   "cell_type": "markdown",
   "id": "4313b4a2-5f17-49f9-9668-670686481827",
   "metadata": {},
   "source": [
    "### Author\n",
    "\n",
    "\n",
    "MSS - Miguel Santos de Souza"
   ]
  }
 ],
 "metadata": {
  "kernelspec": {
   "display_name": "Python 3 (ipykernel)",
   "language": "python",
   "name": "python3"
  },
  "language_info": {
   "codemirror_mode": {
    "name": "ipython",
    "version": 3
   },
   "file_extension": ".py",
   "mimetype": "text/x-python",
   "name": "python",
   "nbconvert_exporter": "python",
   "pygments_lexer": "ipython3",
   "version": "3.12.3"
  }
 },
 "nbformat": 4,
 "nbformat_minor": 5
}
